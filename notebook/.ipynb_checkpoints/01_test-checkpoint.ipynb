{
 "cells": [
  {
   "cell_type": "code",
   "execution_count": null,
   "id": "4a431c62",
   "metadata": {},
   "outputs": [],
   "source": [
    "# Primer notebook de pruebas \n",
    "# aut: Camilo Bautista \n",
    "# date: 14/04/2022\n",
    "# email: cannuto@gmail.com"
   ]
  },
  {
   "cell_type": "markdown",
   "id": "1f176b7d",
   "metadata": {},
   "source": [
    "# instalar librerías\n",
    "pip install pandas\n",
    "pip install numpy"
   ]
  },
  {
   "cell_type": "code",
   "execution_count": 6,
   "id": "4ca8e84e",
   "metadata": {},
   "outputs": [],
   "source": [
    "import pandas as pd"
   ]
  },
  {
   "cell_type": "code",
   "execution_count": null,
   "id": "888341aa",
   "metadata": {},
   "outputs": [],
   "source": []
  }
 ],
 "metadata": {
  "kernelspec": {
   "display_name": "Python 3 (ipykernel)",
   "language": "python",
   "name": "python3"
  },
  "language_info": {
   "codemirror_mode": {
    "name": "ipython",
    "version": 3
   },
   "file_extension": ".py",
   "mimetype": "text/x-python",
   "name": "python",
   "nbconvert_exporter": "python",
   "pygments_lexer": "ipython3",
   "version": "3.10.4"
  }
 },
 "nbformat": 4,
 "nbformat_minor": 5
}
